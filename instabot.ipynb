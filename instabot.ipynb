{
  "nbformat": 4,
  "nbformat_minor": 0,
  "metadata": {
    "colab": {
      "provenance": [],
      "authorship_tag": "ABX9TyMfDS6AxuPR9c1StHk6Fhmd",
      "include_colab_link": true
    },
    "kernelspec": {
      "name": "python3",
      "display_name": "Python 3"
    },
    "language_info": {
      "name": "python"
    }
  },
  "cells": [
    {
      "cell_type": "markdown",
      "metadata": {
        "id": "view-in-github",
        "colab_type": "text"
      },
      "source": [
        "<a href=\"https://colab.research.google.com/github/JudithKimani/24A_PYTHON_PROGRAMMING/blob/main/instabot.ipynb\" target=\"_parent\"><img src=\"https://colab.research.google.com/assets/colab-badge.svg\" alt=\"Open In Colab\"/></a>"
      ]
    },
    {
      "cell_type": "code",
      "source": [
        "!pip install instabot"
      ],
      "metadata": {
        "colab": {
          "base_uri": "https://localhost:8080/"
        },
        "id": "CfoDvFPiJli3",
        "outputId": "131e1841-8ed8-4aaf-89a9-35041cc5f884"
      },
      "execution_count": 2,
      "outputs": [
        {
          "output_type": "stream",
          "name": "stdout",
          "text": [
            "Collecting instabot\n",
            "  Downloading instabot-0.117.0.tar.gz (84 kB)\n",
            "\u001b[?25l     \u001b[90m━━━━━━━━━━━━━━━━━━━━━━━━━━━━━━━━━━━━━━━━\u001b[0m \u001b[32m0.0/84.4 kB\u001b[0m \u001b[31m?\u001b[0m eta \u001b[36m-:--:--\u001b[0m\r\u001b[2K     \u001b[90m━━━━━━━━━━━━━━━━━━━━━━━━━━━━━━━━━━━━━━━━\u001b[0m \u001b[32m84.4/84.4 kB\u001b[0m \u001b[31m2.4 MB/s\u001b[0m eta \u001b[36m0:00:00\u001b[0m\n",
            "\u001b[?25h  Preparing metadata (setup.py) ... \u001b[?25l\u001b[?25hdone\n",
            "Requirement already satisfied: certifi>=2019.11.28 in /usr/local/lib/python3.10/dist-packages (from instabot) (2024.2.2)\n",
            "Requirement already satisfied: chardet>=3.0.4 in /usr/local/lib/python3.10/dist-packages (from instabot) (5.2.0)\n",
            "Requirement already satisfied: future>=0.18.2 in /usr/local/lib/python3.10/dist-packages (from instabot) (0.18.3)\n",
            "Collecting huepy>=1.2.1 (from instabot)\n",
            "  Downloading huepy-1.2.1.tar.gz (15 kB)\n",
            "  Preparing metadata (setup.py) ... \u001b[?25l\u001b[?25hdone\n",
            "Requirement already satisfied: idna>=2.8 in /usr/local/lib/python3.10/dist-packages (from instabot) (3.6)\n",
            "Requirement already satisfied: pysocks>=1.7.1 in /usr/local/lib/python3.10/dist-packages (from instabot) (1.7.1)\n",
            "Requirement already satisfied: pytz>=2019.3 in /usr/local/lib/python3.10/dist-packages (from instabot) (2023.4)\n",
            "Requirement already satisfied: requests>=2.22.0 in /usr/local/lib/python3.10/dist-packages (from instabot) (2.31.0)\n",
            "Collecting requests-toolbelt>=0.9.1 (from instabot)\n",
            "  Downloading requests_toolbelt-1.0.0-py2.py3-none-any.whl (54 kB)\n",
            "\u001b[2K     \u001b[90m━━━━━━━━━━━━━━━━━━━━━━━━━━━━━━━━━━━━━━━━\u001b[0m \u001b[32m54.5/54.5 kB\u001b[0m \u001b[31m7.0 MB/s\u001b[0m eta \u001b[36m0:00:00\u001b[0m\n",
            "\u001b[?25hCollecting responses>=0.10.9 (from instabot)\n",
            "  Downloading responses-0.25.0-py3-none-any.whl (55 kB)\n",
            "\u001b[2K     \u001b[90m━━━━━━━━━━━━━━━━━━━━━━━━━━━━━━━━━━━━━━━━\u001b[0m \u001b[32m55.2/55.2 kB\u001b[0m \u001b[31m5.7 MB/s\u001b[0m eta \u001b[36m0:00:00\u001b[0m\n",
            "\u001b[?25hCollecting schedule>=0.6.0 (from instabot)\n",
            "  Downloading schedule-1.2.1-py2.py3-none-any.whl (11 kB)\n",
            "Requirement already satisfied: six>=1.14.0 in /usr/local/lib/python3.10/dist-packages (from instabot) (1.16.0)\n",
            "Requirement already satisfied: tqdm>=4.41.1 in /usr/local/lib/python3.10/dist-packages (from instabot) (4.66.2)\n",
            "Requirement already satisfied: urllib3>=1.25.7 in /usr/local/lib/python3.10/dist-packages (from instabot) (2.0.7)\n",
            "Collecting mock>=3.0.5 (from instabot)\n",
            "  Downloading mock-5.1.0-py3-none-any.whl (30 kB)\n",
            "Requirement already satisfied: moviepy>=1.0.1 in /usr/local/lib/python3.10/dist-packages (from instabot) (1.0.3)\n",
            "Requirement already satisfied: Pillow>=6.2.2 in /usr/local/lib/python3.10/dist-packages (from instabot) (9.4.0)\n",
            "Requirement already satisfied: pytest>=4.6.9 in /usr/local/lib/python3.10/dist-packages (from instabot) (7.4.4)\n",
            "Requirement already satisfied: decorator<5.0,>=4.0.2 in /usr/local/lib/python3.10/dist-packages (from moviepy>=1.0.1->instabot) (4.4.2)\n",
            "Requirement already satisfied: proglog<=1.0.0 in /usr/local/lib/python3.10/dist-packages (from moviepy>=1.0.1->instabot) (0.1.10)\n",
            "Requirement already satisfied: numpy>=1.17.3 in /usr/local/lib/python3.10/dist-packages (from moviepy>=1.0.1->instabot) (1.25.2)\n",
            "Requirement already satisfied: imageio<3.0,>=2.5 in /usr/local/lib/python3.10/dist-packages (from moviepy>=1.0.1->instabot) (2.31.6)\n",
            "Requirement already satisfied: imageio-ffmpeg>=0.2.0 in /usr/local/lib/python3.10/dist-packages (from moviepy>=1.0.1->instabot) (0.4.9)\n",
            "Requirement already satisfied: iniconfig in /usr/local/lib/python3.10/dist-packages (from pytest>=4.6.9->instabot) (2.0.0)\n",
            "Requirement already satisfied: packaging in /usr/local/lib/python3.10/dist-packages (from pytest>=4.6.9->instabot) (23.2)\n",
            "Requirement already satisfied: pluggy<2.0,>=0.12 in /usr/local/lib/python3.10/dist-packages (from pytest>=4.6.9->instabot) (1.4.0)\n",
            "Requirement already satisfied: exceptiongroup>=1.0.0rc8 in /usr/local/lib/python3.10/dist-packages (from pytest>=4.6.9->instabot) (1.2.0)\n",
            "Requirement already satisfied: tomli>=1.0.0 in /usr/local/lib/python3.10/dist-packages (from pytest>=4.6.9->instabot) (2.0.1)\n",
            "Requirement already satisfied: charset-normalizer<4,>=2 in /usr/local/lib/python3.10/dist-packages (from requests>=2.22.0->instabot) (3.3.2)\n",
            "Requirement already satisfied: pyyaml in /usr/local/lib/python3.10/dist-packages (from responses>=0.10.9->instabot) (6.0.1)\n",
            "Requirement already satisfied: setuptools in /usr/local/lib/python3.10/dist-packages (from imageio-ffmpeg>=0.2.0->moviepy>=1.0.1->instabot) (67.7.2)\n",
            "Building wheels for collected packages: instabot, huepy\n",
            "  Building wheel for instabot (setup.py) ... \u001b[?25l\u001b[?25hdone\n",
            "  Created wheel for instabot: filename=instabot-0.117.0-py3-none-any.whl size=101260 sha256=63a84eeb3eece2cc880ce4771f5a5fd001e5c398cfafd423a3ace627a3054601\n",
            "  Stored in directory: /root/.cache/pip/wheels/67/bf/77/58ae7f57d53eb1e20faf980bbd060251dfd2816a1edff9150a\n",
            "  Building wheel for huepy (setup.py) ... \u001b[?25l\u001b[?25hdone\n",
            "  Created wheel for huepy: filename=huepy-1.2.1-py3-none-any.whl size=26986 sha256=cc0b57bf8f7b641b0178f4035aa6464c3764a0549e2f8bf53479e5272065b8d6\n",
            "  Stored in directory: /root/.cache/pip/wheels/6c/b3/80/bb3bc1a2d6d3ebbad79b4959f0da042ee6aa7f39b386a74465\n",
            "Successfully built instabot huepy\n",
            "Installing collected packages: huepy, schedule, mock, responses, requests-toolbelt, instabot\n",
            "Successfully installed huepy-1.2.1 instabot-0.117.0 mock-5.1.0 requests-toolbelt-1.0.0 responses-0.25.0 schedule-1.2.1\n"
          ]
        }
      ]
    },
    {
      "cell_type": "code",
      "execution_count": null,
      "metadata": {
        "id": "saYhDmNUJJdZ"
      },
      "outputs": [],
      "source": [
        "from instabot import Bot\n",
        "\n",
        "import schedule\n",
        "import time\n",
        "\n",
        "bot = Bot()\n",
        "#user_name = \"cattlus\"\n",
        "#user_password = \"Earlybird\"\n",
        "\n",
        "bot.login(username= \"cattlus\", password= \"Earlybird\")"
      ]
    },
    {
      "cell_type": "markdown",
      "source": [],
      "metadata": {
        "id": "5mtuc_0LR7Rv"
      }
    },
    {
      "cell_type": "code",
      "source": [
        "bot.follow(\"python.hub\")"
      ],
      "metadata": {
        "id": "xjH6G8luJ4Jn"
      },
      "execution_count": null,
      "outputs": []
    },
    {
      "cell_type": "markdown",
      "source": [
        "used to follow one user"
      ],
      "metadata": {
        "id": "WlxnFc8DRtge"
      }
    },
    {
      "cell_type": "code",
      "source": [
        "list_of_user = [\"python.learning\", \"python.science\", \"python.hunt\"]\n",
        "bot.follow_users(list_of_user)"
      ],
      "metadata": {
        "id": "3SMpgxWWKk2u"
      },
      "execution_count": null,
      "outputs": []
    },
    {
      "cell_type": "markdown",
      "source": [
        "This code is used when one wnts to follow more than one users"
      ],
      "metadata": {
        "id": "uLzBQ3AhWXJt"
      }
    },
    {
      "cell_type": "code",
      "source": [
        "bot.unfollow(\"kibeandy\")"
      ],
      "metadata": {
        "id": "SnCnA7u-PFjk"
      },
      "execution_count": null,
      "outputs": []
    },
    {
      "cell_type": "markdown",
      "source": [
        "The .unfollow is used to unfollow the selected username."
      ],
      "metadata": {
        "id": "fV4n9_phRgS9"
      }
    },
    {
      "cell_type": "code",
      "source": [
        "followers = bot.get_user_followers(\"python.hub\")\n",
        "print(\"Total number of followers:\")\n",
        "print(len(followers))"
      ],
      "metadata": {
        "colab": {
          "base_uri": "https://localhost:8080/"
        },
        "id": "QtVa3ZwjPVzD",
        "outputId": "0f614805-71fd-4ad0-9cec-a7681aeec1e2"
      },
      "execution_count": 12,
      "outputs": [
        {
          "output_type": "stream",
          "name": "stderr",
          "text": [
            "DEBUG:instabot version: 0.117.0:GET to endpoint: users/22514459316/info/ returned response: <Response [200]>\n"
          ]
        },
        {
          "output_type": "stream",
          "name": "stdout",
          "text": [
            "Consider temporarily saving the result of this big operation. This will take a while.\n",
            "\n"
          ]
        },
        {
          "output_type": "stream",
          "name": "stderr",
          "text": [
            "Getting followers of 22514459316:   0%|          | 0/1665973 [00:00<?, ?it/s]DEBUG:instabot version: 0.117.0:GET to endpoint: friendships/22514459316/followers/?rank_token=65043071027_61397f96-2dad-470d-a8ee-60171aeef5ba returned response: <Response [200]>\n",
            "Getting followers of 22514459316:   0%|          | 1/1665973 [00:01<781:23:26,  1.69s/it]DEBUG:instabot version: 0.117.0:GET to endpoint: friendships/22514459316/followers/?rank_token=65043071027_61397f96-2dad-470d-a8ee-60171aeef5ba&max_id=100 returned response: <Response [200]>\n",
            "Getting followers of 22514459316:   0%|          | 94/1665973 [00:03<15:20:21, 30.17it/s]DEBUG:instabot version: 0.117.0:GET to endpoint: friendships/22514459316/followers/?rank_token=65043071027_61397f96-2dad-470d-a8ee-60171aeef5ba&max_id=200 returned response: <Response [200]>\n",
            "Getting followers of 22514459316:   0%|          | 190/1665973 [00:05<10:26:28, 44.32it/s]DEBUG:instabot version: 0.117.0:GET to endpoint: friendships/22514459316/followers/?rank_token=65043071027_61397f96-2dad-470d-a8ee-60171aeef5ba&max_id=250|QVFBcGxzX0hWWlp5RG9TYnU0R0NYUm91WGdRNWVfazZpWFhzTEtiR0FBWGFRU0Zua0RpQVB5MEJCakUzTWJGWVdoZWE2Zlg1RW0tYUdPa3pjZUhWN2Q4ag== returned response: <Response [200]>\n",
            "Getting followers of 22514459316:   0%|          | 237/1665973 [00:06<11:10:57, 41.38it/s]DEBUG:instabot version: 0.117.0:GET to endpoint: friendships/22514459316/followers/?rank_token=65043071027_61397f96-2dad-470d-a8ee-60171aeef5ba&max_id=500|QVFEV18xeGJNbnRVSXgxcFU1V3Q0UFVSdGJEandYb2FlbEx5cDBhMjNtbE1hdVFEUDNxTWdjTjJxU3hqd0pIT3ZBbHlWZF9fTDRjMmt5dzI3N2lDdGIwTw== returned response: <Response [200]>\n",
            "Getting followers of 22514459316:   0%|          | 320/1665973 [00:08<11:21:15, 40.75it/s]DEBUG:instabot version: 0.117.0:GET to endpoint: friendships/22514459316/followers/?rank_token=65043071027_61397f96-2dad-470d-a8ee-60171aeef5ba&max_id=750|QVFCbjJpSEt3UGpRSlJpall5UTZCMHlKclE1NFlDdEhSQWcxQXZGaW1IMlZ2aVNkcXBvdDZEVmNQSW8wa1B3bEV1QWRhQXEwTTF1VWtMT3Q3QlBNamd4Uw== returned response: <Response [200]>\n",
            "Getting followers of 22514459316:   0%|          | 410/1665973 [00:10<10:23:43, 44.51it/s]DEBUG:instabot version: 0.117.0:GET to endpoint: friendships/22514459316/followers/?rank_token=65043071027_61397f96-2dad-470d-a8ee-60171aeef5ba&max_id=1000|QVFBUDFnWFRhZ0lhSWNLVXRnWkI4WkYzUENvOWpnSkhRenV3X2hPSzUzTGtwdTBXbVpCXy1xSHlQMGJrT0o1YTFyM251UDYtMWdqSXJvT3gyVHJOd1JNSQ== returned response: <Response [200]>\n",
            "Getting followers of 22514459316:   0%|          | 500/1665973 [00:11<9:30:58, 48.61it/s] DEBUG:instabot version: 0.117.0:GET to endpoint: friendships/22514459316/followers/?rank_token=65043071027_61397f96-2dad-470d-a8ee-60171aeef5ba&max_id=1250|QVFDdHUxSlhoQnBCbW44WFhfRlN0d2tCSFl6MDdLZDVJQVB0YVVGQWtoRVlUMjVRZHp2YzBsa0hLbmZLeV8yYU5YUVNSTGZuOGE5YnBlRTEwVTRNU3hhag== returned response: <Response [200]>\n",
            "Getting followers of 22514459316:   0%|          | 591/1665973 [00:13<9:01:09, 51.29it/s]DEBUG:instabot version: 0.117.0:GET to endpoint: friendships/22514459316/followers/?rank_token=65043071027_61397f96-2dad-470d-a8ee-60171aeef5ba&max_id=1500|QVFEMjB6RVNpMWdZUHdwdlRUUnluZzZQREZ3ZE56OVJ2UGRvTEJTZ1lVbl9wMG9lLWpZRnFtMjExTDVPVnZOZS1razcxa1doTmU5bUZZcDNOX3c0SERvSg== returned response: <Response [200]>\n",
            "Getting followers of 22514459316:   0%|          | 686/1665973 [00:14<8:33:32, 54.05it/s]DEBUG:instabot version: 0.117.0:GET to endpoint: friendships/22514459316/followers/?rank_token=65043071027_61397f96-2dad-470d-a8ee-60171aeef5ba&max_id=1750|QVFCM1N5Q29JZGEtSjM5aW5kWjhSbUVEX205OUlpWWI3akZIcXMtNDRuRGdWRUlJb1JEc1RKZy1wcHllSFRxMUNuVjBrNnRjd0l6SmFOT3ZoN1N4eTNCVg== returned response: <Response [200]>\n",
            "Getting followers of 22514459316:   0%|          | 779/1665973 [00:16<8:35:16, 53.86it/s]DEBUG:instabot version: 0.117.0:GET to endpoint: friendships/22514459316/followers/?rank_token=65043071027_61397f96-2dad-470d-a8ee-60171aeef5ba&max_id=2000|QVFBYVRJSEZIQUlIaVpDbWpuSWlFYUNlTXBUZWRldFFDT3lVTHdBLUpKUTFBdTk5N2FMdkRteEZrUjBzMm5Jb3VENFExM1pZWFIyLUlLbjVhZmZLeVFaMQ== returned response: <Response [200]>\n",
            "Getting followers of 22514459316:   0%|          | 875/1665973 [00:18<9:09:34, 50.50it/s]DEBUG:instabot version: 0.117.0:GET to endpoint: friendships/22514459316/followers/?rank_token=65043071027_61397f96-2dad-470d-a8ee-60171aeef5ba&max_id=2100|QVFBYVRJSEZIQUlIaVpDbWpuSWlFYUNlTXBUZWRldFFDT3lVTHdBLUpKUTFBdTk5N2FMdkRteEZrUjBzMm5Jb3VENFExM1pZWFIyLUlLbjVhZmZLeVFaMQ== returned response: <Response [200]>\n",
            "Getting followers of 22514459316:   0%|          | 967/1665973 [00:20<8:17:58, 55.73it/s]DEBUG:instabot version: 0.117.0:GET to endpoint: friendships/22514459316/followers/?rank_token=65043071027_61397f96-2dad-470d-a8ee-60171aeef5ba&max_id=2200|QVFBYVRJSEZIQUlIaVpDbWpuSWlFYUNlTXBUZWRldFFDT3lVTHdBLUpKUTFBdTk5N2FMdkRteEZrUjBzMm5Jb3VENFExM1pZWFIyLUlLbjVhZmZLeVFaMQ== returned response: <Response [200]>\n",
            "Getting followers of 22514459316:   0%|          | 1062/1665973 [00:21<8:36:09, 53.76it/s]DEBUG:instabot version: 0.117.0:GET to endpoint: friendships/22514459316/followers/?rank_token=65043071027_61397f96-2dad-470d-a8ee-60171aeef5ba&max_id=2250|QVFBcnFTckpHazRCWUREeVlyRU1ydDZMc0RjTklxY0RxQVZzUkpucE1IM3JQVWtJMmxpeno1S2M5dlZEOGE3bzRwVHJib0JrM05keVpKc3I0QjZTUXB4Zg== returned response: <Response [200]>\n",
            "Getting followers of 22514459316:   0%|          | 1110/1665973 [00:23<9:06:26, 50.78it/s]DEBUG:instabot version: 0.117.0:GET to endpoint: friendships/22514459316/followers/?rank_token=65043071027_61397f96-2dad-470d-a8ee-60171aeef5ba&max_id=2350|QVFBcnFTckpHazRCWUREeVlyRU1ydDZMc0RjTklxY0RxQVZzUkpucE1IM3JQVWtJMmxpeno1S2M5dlZEOGE3bzRwVHJib0JrM05keVpKc3I0QjZTUXB4Zg== returned response: <Response [200]>\n",
            "Getting followers of 22514459316:   0%|          | 1200/1665973 [00:24<8:49:39, 52.38it/s]DEBUG:instabot version: 0.117.0:GET to endpoint: friendships/22514459316/followers/?rank_token=65043071027_61397f96-2dad-470d-a8ee-60171aeef5ba&max_id=2450|QVFBcnFTckpHazRCWUREeVlyRU1ydDZMc0RjTklxY0RxQVZzUkpucE1IM3JQVWtJMmxpeno1S2M5dlZEOGE3bzRwVHJib0JrM05keVpKc3I0QjZTUXB4Zg== returned response: <Response [200]>\n",
            "Getting followers of 22514459316:   0%|          | 1295/1665973 [00:25<7:35:36, 60.90it/s]DEBUG:instabot version: 0.117.0:GET to endpoint: friendships/22514459316/followers/?rank_token=65043071027_61397f96-2dad-470d-a8ee-60171aeef5ba&max_id=2500|QVFDclFwLUNkODJDY0ktdS1zUUpzWHJiMW1uZmtyTG5zdjQxMklCbjQwaWpVd0ZZX1pZUkkwVGxWUWluT0F5bnE1ZHlIUGZQWFdqZ1FyM21RcXV1MFhFbA== returned response: <Response [200]>\n",
            "Getting followers of 22514459316:   0%|          | 1341/1665973 [00:27<8:55:47, 51.78it/s]DEBUG:instabot version: 0.117.0:GET to endpoint: friendships/22514459316/followers/?rank_token=65043071027_61397f96-2dad-470d-a8ee-60171aeef5ba&max_id=2600|QVFDclFwLUNkODJDY0ktdS1zUUpzWHJiMW1uZmtyTG5zdjQxMklCbjQwaWpVd0ZZX1pZUkkwVGxWUWluT0F5bnE1ZHlIUGZQWFdqZ1FyM21RcXV1MFhFbA== returned response: <Response [200]>\n",
            "Getting followers of 22514459316:   0%|          | 1433/1665973 [00:28<8:18:41, 55.63it/s]DEBUG:instabot version: 0.117.0:GET to endpoint: friendships/22514459316/followers/?rank_token=65043071027_61397f96-2dad-470d-a8ee-60171aeef5ba&max_id=2700|QVFDclFwLUNkODJDY0ktdS1zUUpzWHJiMW1uZmtyTG5zdjQxMklCbjQwaWpVd0ZZX1pZUkkwVGxWUWluT0F5bnE1ZHlIUGZQWFdqZ1FyM21RcXV1MFhFbA== returned response: <Response [200]>\n",
            "Getting followers of 22514459316:   0%|          | 1531/1665973 [00:29<6:57:33, 66.44it/s]DEBUG:instabot version: 0.117.0:GET to endpoint: friendships/22514459316/followers/?rank_token=65043071027_61397f96-2dad-470d-a8ee-60171aeef5ba&max_id=2750|QVFEVzRaTmw3MG9ZaWE0Y0RhX3VnRHh3RFBYRnlhYVZWekQxalR2MnlWZXhsaDM1TE10Z0JZRnZkakRJV0c4YlBKYjRXV0tXUU5LZHFlUXhzTFBoOFIwZg== returned response: <Response [200]>\n",
            "Getting followers of 22514459316:   0%|          | 1576/1665973 [00:30<8:03:25, 57.38it/s]DEBUG:instabot version: 0.117.0:GET to endpoint: friendships/22514459316/followers/?rank_token=65043071027_61397f96-2dad-470d-a8ee-60171aeef5ba&max_id=2850|QVFEVzRaTmw3MG9ZaWE0Y0RhX3VnRHh3RFBYRnlhYVZWekQxalR2MnlWZXhsaDM1TE10Z0JZRnZkakRJV0c4YlBKYjRXV0tXUU5LZHFlUXhzTFBoOFIwZg== returned response: <Response [200]>\n",
            "Getting followers of 22514459316:   0%|          | 1667/1665973 [00:32<7:12:47, 64.09it/s]DEBUG:instabot version: 0.117.0:GET to endpoint: friendships/22514459316/followers/?rank_token=65043071027_61397f96-2dad-470d-a8ee-60171aeef5ba&max_id=2950|QVFEVzRaTmw3MG9ZaWE0Y0RhX3VnRHh3RFBYRnlhYVZWekQxalR2MnlWZXhsaDM1TE10Z0JZRnZkakRJV0c4YlBKYjRXV0tXUU5LZHFlUXhzTFBoOFIwZg== returned response: <Response [400]>\n",
            "DEBUG:instabot version: 0.117.0:Responsecode indicates error; response content: b'{\"message\":\"feedback_required\",\"is_spam\":true,\"feedback_title\":\"Try Again Later\",\"feedback_message\":\"We limit how often you can do certain things on Instagram to protect our community. Tell us if you think we made a mistake.\",\"feedback_url\":\"\",\"feedback_appeal_label\":\"Tell us\",\"feedback_ignore_label\":\"OK\",\"feedback_action\":\"report_problem\",\"category\":\"AYTG25-FlT5xALyUWPFdV0Z4d3hCv0Z-mKTLObRIP_H54BCTepPw5RY0GNDXZVxmV48bO_YuWxep7OQ5aAXMBLqFKrM3_-Xw3A\",\"responsible_policy\":\"AYTEkIoS5OogHA-xRouiWr7Qh6KvuZfQAut_MoEZOxR3_qXnNAIty5HB_O0B4QGVmQ\",\"error_code\":\"AYTIM9imZ8S_5dpuxuC0MFLngY2kQEMVstajwLFsdDEOyqoFvhEFoi7VWQcwPDT_rQ\",\"restriction_extra_data\":\"AYSd2d5q1WrtBYmgJucJ2GgvBcc-GbzhX9raK9Gd3QiGmpqa3_5m7EAfhgyGMgIyg8Eh2QcDEntIg19w77LV3NRUJH1p0NMrN-4aeCisTx72s_7bdoQHWZbv8CKE2F5lcZnjoKPnRdusKTv6NLfWQ1tx6BS09LX9tHCNJ7VW0PPjL6L90kkbIp2ljNwVuBBlLUgQcjexgLZH5gb24vFlFIphcxDzD07flNcv4yBmo90Y4M3hDdc6imZ5_1dg5I3KJ65I0-dyaYv2vjxsCeBHd6SHRkGbrahW9n0WcPkAP2V1x_roUZUuiWgiyHNvyREqqmpZtjiEQL7Vpp8zenenmNsr5shk4UPMbLt5HKIRF1bJ_MlD0fcZBnO4rDDRlhUQ-sxfbAXRW0u9d8XSVNN1cCWGqHjm3yCMTbHmYHwFKa3da-LjYjjKKIXrzeTzbTIiCDOk5cABOVtkc36THXLC5UrtgeMbYXbPybAglxIhuob45C4gRtIj-3_87ZJj2DbnWT1JFeDQEiA5dEKdD20pv8PgLXzBfUXxnRCY-TDykl6pVyC6QpetcnmATI3JoPJImVdHnfEugmtj6Fff0j54\",\"dialogue_type\":\"0\",\"sentry_block_restriction_dialogue_unification_enabled\":true,\"status\":\"fail\"}'\n",
            "2024-02-17 04:44:49,752 - ERROR - Request returns 400 error!\n",
            "ERROR:instabot version: 0.117.0:Request returns 400 error!\n",
            "2024-02-17 04:44:49,758 - ERROR - ATTENTION!: `feedback_required`b'We limit how often you can do certain things on Instagram to protect our community. Tell us if you think we made a mistake.'\n",
            "ERROR:instabot version: 0.117.0:ATTENTION!: `feedback_required`b'We limit how often you can do certain things on Instagram to protect our community. Tell us if you think we made a mistake.'\n",
            "Getting followers of 22514459316:   0%|          | 1758/1665973 [00:32<8:30:15, 54.36it/s]"
          ]
        },
        {
          "output_type": "stream",
          "name": "stdout",
          "text": [
            "ERROR: 'users'\n",
            "Total number of followers:\n",
            "1758\n"
          ]
        },
        {
          "output_type": "stream",
          "name": "stderr",
          "text": [
            "\n"
          ]
        }
      ]
    }
  ]
}